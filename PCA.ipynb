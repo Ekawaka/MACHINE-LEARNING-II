{
  "nbformat": 4,
  "nbformat_minor": 0,
  "metadata": {
    "colab": {
      "provenance": [],
      "authorship_tag": "ABX9TyOPm++7smkXynnVV1BskKOI",
      "include_colab_link": true
    },
    "kernelspec": {
      "name": "python3",
      "display_name": "Python 3"
    },
    "language_info": {
      "name": "python"
    }
  },
  "cells": [
    {
      "cell_type": "markdown",
      "metadata": {
        "id": "view-in-github",
        "colab_type": "text"
      },
      "source": [
        "<a href=\"https://colab.research.google.com/github/Ekawaka/MACHINE-LEARNING-II/blob/main/PCA.ipynb\" target=\"_parent\"><img src=\"https://colab.research.google.com/assets/colab-badge.svg\" alt=\"Open In Colab\"/></a>"
      ]
    },
    {
      "cell_type": "markdown",
      "source": [
        "# 1. Introduction to PCA\n",
        "- Principal Component Analysis - It is a dimensionality reduction technique used to reduce the number of variables in a dataset while maintaining as much information as possible."
      ],
      "metadata": {
        "id": "cz6W34I0W_CV"
      }
    },
    {
      "cell_type": "markdown",
      "source": [
        "# 2. Steps involved in PCA\n",
        "1. Standardize the dataset\n",
        "2. Compute the covariance Matrix\n",
        "3. Compute the EigenValues and the Eigenvectors\n",
        "4. Sort the Eingenvalues and eigenvectors\n",
        "5. Choose the principal components\n",
        "6. Transform the data"
      ],
      "metadata": {
        "id": "yPIlMkcuXHEv"
      }
    },
    {
      "cell_type": "markdown",
      "source": [
        "# 3. Basic PCA Implementation\n",
        "\n",
        "## Import the libraries"
      ],
      "metadata": {
        "id": "nqX3X5l7XKv5"
      }
    },
    {
      "cell_type": "code",
      "execution_count": 1,
      "metadata": {
        "id": "bZwJZ6IrW6IM"
      },
      "outputs": [],
      "source": [
        "import pandas as pd\n",
        "import numpy as np\n",
        "from sklearn.preprocessing import StandardScaler\n",
        "from sklearn.decomposition import PCA\n",
        "import matplotlib.pyplot as plt"
      ]
    },
    {
      "cell_type": "markdown",
      "source": [
        "### Load the dataset annd standardize it"
      ],
      "metadata": {
        "id": "ILG0eLOIW-d7"
      }
    }
  ]
}