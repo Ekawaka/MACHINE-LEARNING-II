{
  "nbformat": 4,
  "nbformat_minor": 0,
  "metadata": {
    "colab": {
      "provenance": [],
      "authorship_tag": "ABX9TyN3FDgyL2t298MfnJfzmLZI",
      "include_colab_link": true
    },
    "kernelspec": {
      "name": "python3",
      "display_name": "Python 3"
    },
    "language_info": {
      "name": "python"
    }
  },
  "cells": [
    {
      "cell_type": "markdown",
      "metadata": {
        "id": "view-in-github",
        "colab_type": "text"
      },
      "source": [
        "<a href=\"https://colab.research.google.com/github/Ekawaka/MACHINE-LEARNING-II/blob/main/Clustering.ipynb\" target=\"_parent\"><img src=\"https://colab.research.google.com/assets/colab-badge.svg\" alt=\"Open In Colab\"/></a>"
      ]
    },
    {
      "cell_type": "markdown",
      "source": [
        "# Clustering:\n",
        "- Type of unsupervised Machine learning that groups a set of objects in a way that the object in the same group (Cluster) are more similar to each other.\n",
        "\n",
        "### Why Clustering:\n",
        "1. Understanding our data - Understand the underlying patterns and the relationships in our data\n",
        "2. Data Segmentation - Used to segment data to identify similar groups\n",
        "3. Anomaly Detection - Identify outliers or anomalies in the data\n",
        "\n",
        "### Key Concepts in Clustering\n",
        "1. Similarity and Dissimilarity\n",
        "    - Relies on measuring the distance metric (Eucleadian/Manhattan)\n",
        "\n",
        "2. Cluster\n",
        "    - Is a group of similar data points"
      ],
      "metadata": {
        "id": "rzF3ltazlk5R"
      }
    },
    {
      "cell_type": "markdown",
      "source": [
        "## Clustering Algorithms\n",
        "\n",
        "### 1. K-means Clustering\n",
        "\n",
        "##### Steps to K-Means Clustering:\n",
        "- 1. Choose the number of clusters - k\n",
        "- 2. Randomly innit k clusters centroids\n",
        "- 3. Assign each data point the nearest centroid\n",
        "- 4. Update the centroids based on the mean of the data points assigned\n",
        "- 5. Repeat steps 3, 4"
      ],
      "metadata": {
        "id": "Y_fZZFMilwVg"
      }
    },
    {
      "cell_type": "code",
      "source": [
        "# Example\n",
        "from sklearn.cluster import KMeans\n",
        "import numpy as np\n",
        "\n",
        "# Sample data\n",
        "X = np.array([[1,2], [1,4], [1,0],\n",
        "              [10, 2], [10,4], [10,0]])"
      ],
      "metadata": {
        "id": "yOUJ7rM6mkKW"
      },
      "execution_count": 1,
      "outputs": []
    },
    {
      "cell_type": "code",
      "source": [
        "# NUmber of clusters\n",
        "k = 2"
      ],
      "metadata": {
        "id": "N7Dyoel4lsiN"
      },
      "execution_count": 2,
      "outputs": []
    },
    {
      "cell_type": "code",
      "source": [
        "# Kmeans clustering\n",
        "kmeans = KMeans(n_clusters=k, random_state=0).fit(X)"
      ],
      "metadata": {
        "colab": {
          "base_uri": "https://localhost:8080/"
        },
        "id": "i1zZXDcGmxw5",
        "outputId": "dca2c6de-f6d3-4e24-a63b-f5f84808b7a6"
      },
      "execution_count": 3,
      "outputs": [
        {
          "output_type": "stream",
          "name": "stderr",
          "text": [
            "/usr/local/lib/python3.10/dist-packages/sklearn/cluster/_kmeans.py:870: FutureWarning: The default value of `n_init` will change from 10 to 'auto' in 1.4. Set the value of `n_init` explicitly to suppress the warning\n",
            "  warnings.warn(\n"
          ]
        }
      ]
    },
    {
      "cell_type": "code",
      "source": [
        "# Kmeans clustering\n",
        "kmeans = KMeans(n_clusters=k, random_state=0).fit(X)\n",
        "# Print the results\n",
        "print(\"Clusters centers:\", kmeans.cluster_centers_)\n",
        "print(\"Labels for each point: \", kmeans.labels_)"
      ],
      "metadata": {
        "colab": {
          "base_uri": "https://localhost:8080/"
        },
        "id": "r6pIqs_qm0ws",
        "outputId": "ab7f0179-fef0-4634-b31c-aa4edfea0d71"
      },
      "execution_count": 4,
      "outputs": [
        {
          "output_type": "stream",
          "name": "stdout",
          "text": [
            "Clusters centers: [[10.  2.]\n",
            " [ 1.  2.]]\n",
            "Labels for each point:  [1 1 1 0 0 0]\n"
          ]
        },
        {
          "output_type": "stream",
          "name": "stderr",
          "text": [
            "/usr/local/lib/python3.10/dist-packages/sklearn/cluster/_kmeans.py:870: FutureWarning: The default value of `n_init` will change from 10 to 'auto' in 1.4. Set the value of `n_init` explicitly to suppress the warning\n",
            "  warnings.warn(\n"
          ]
        }
      ]
    },
    {
      "cell_type": "markdown",
      "source": [
        "## Hierarchical Clustering\n",
        "\n",
        "- Agglomerative\n",
        "- Divisive"
      ],
      "metadata": {
        "id": "D6K_UwyLnARK"
      }
    },
    {
      "cell_type": "code",
      "source": [
        "from scipy.cluster.hierarchy import dendrogram, linkage\n",
        "import matplotlib.pyplot as plt"
      ],
      "metadata": {
        "id": "iOXT_Ga2nBmn"
      },
      "execution_count": 5,
      "outputs": []
    },
    {
      "cell_type": "code",
      "source": [
        "# Hierarchical Clustering\n",
        "Z = linkage(X, 'ward')\n",
        "\n",
        "# Plot the dendrogram\n",
        "dendrogram(Z)\n",
        "plt.show()"
      ],
      "metadata": {
        "colab": {
          "base_uri": "https://localhost:8080/",
          "height": 434
        },
        "id": "dzZLw63lnLwh",
        "outputId": "e1ffe83f-5285-4e02-d2e5-e076654fff27"
      },
      "execution_count": 6,
      "outputs": [
        {
          "output_type": "display_data",
          "data": {
            "text/plain": [
              "<Figure size 640x480 with 1 Axes>"
            ],
            "image/png": "[encoded data removed]"
          },
          "metadata": {}
        }
      ]
    }
  ]
}